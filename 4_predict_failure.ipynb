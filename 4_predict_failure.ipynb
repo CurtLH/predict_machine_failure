{
 "cells": [
  {
   "cell_type": "markdown",
   "metadata": {},
   "source": [
    "# Predictive Maintenance"
   ]
  },
  {
   "cell_type": "markdown",
   "metadata": {},
   "source": [
    "In this notebook, we will explore various methods to handle the imbalance between the number of failures compared to non-failures.  In addition, we will attempt to fit various classification methods to the data in hopes of successsfully predicting a failure before it happens."
   ]
  },
  {
   "cell_type": "markdown",
   "metadata": {},
   "source": [
    "## Customize Enviornment"
   ]
  },
  {
   "cell_type": "code",
   "execution_count": 2,
   "metadata": {},
   "outputs": [],
   "source": [
    "# load packages\n",
    "packages <- c(\"purrr\", \"doMC\", \"RMySQL\", \"lubridate\", \"ggplot2\", \"caret\", \"DMwR\", \"ROSE\", \"e1071\", \"randomForest\", \n",
    "              \"party\", \"Matrix\", \"xgboost\", \"DiagrammeR\", \"ipred\", \"nnet\", \"pROC\")\n",
    "purrr::walk(packages, library, character.only = TRUE, warn.conflicts = FALSE)\n",
    "\n",
    "# set default plot size\n",
    "options(repr.plot.width=10, repr.plot.height=6)\n",
    "\n",
    "# configure multicore processing\n",
    "registerDoMC(cores=8)"
   ]
  },
  {
   "cell_type": "markdown",
   "metadata": {},
   "source": [
    "## Load Data"
   ]
  },
  {
   "cell_type": "code",
   "execution_count": 3,
   "metadata": {},
   "outputs": [],
   "source": [
    "# create an open connection to the database\n",
    "#cn <- dbConnect(drv = RMySQL::MySQL(),\n",
    "#                host = \"host\",\n",
    "#                port = 3306,\n",
    "#                user = \"user\",\n",
    "#                password = \"password\",\n",
    "#                dbname = \"db\")\n",
    "\n",
    "# query the database and store the results into a DataFrame\n",
    "#df <- dbGetQuery(cn, \"SELECT * FROM dryer3_1_hour_before_fail\")\n",
    "#dbDisconnect(cn)"
   ]
  },
  {
   "cell_type": "code",
   "execution_count": 4,
   "metadata": {
    "collapsed": true
   },
   "outputs": [],
   "source": [
    "# save df to local machine\n",
    "#saveRDS(df, \"dryer3_1_hour_before_fail.Rda\")\n",
    "df <- readRDS(\"dryer3_1_hour_before_fail.Rda\")"
   ]
  },
  {
   "cell_type": "code",
   "execution_count": null,
   "metadata": {
    "collapsed": true
   },
   "outputs": [],
   "source": [
    "# remove rows without complete data\n",
    "df <- df_all[complete.cases(df_all),]\n",
    "nrow(df)"
   ]
  },
  {
   "cell_type": "code",
   "execution_count": 5,
   "metadata": {},
   "outputs": [],
   "source": [
    "# create a new variable that indicates failure in the next hour\n",
    "df$Class  <- as.factor(df$FAIL)\n",
    "\n",
    "# drop the old failure indicators\n",
    "df$FAIL <- NULL\n",
    "\n",
    "# create variable names for the Class variable\n",
    "levels(df$Class) <- make.names(c(\"notFail\", \"fail\"))"
   ]
  },
  {
   "cell_type": "code",
   "execution_count": 6,
   "metadata": {
    "collapsed": true
   },
   "outputs": [],
   "source": [
    "# create new variables for dates and time\n",
    "df$Datetime_hour <- ymd_hms(df$Datetime)\n",
    "df$Year <- year(df$Datetime_hour)\n",
    "df$Month <- month(df$Datetime_hour)\n",
    "df$Day <- day(df$Datetime_hour)\n",
    "df$Hour <- hour(df$Datetime_hour)\n",
    "df$Minute <- minute(df$Datetime_hour)\n",
    "df$Datetime_hour <- as.factor(df$Datetime_hour)"
   ]
  },
  {
   "cell_type": "code",
   "execution_count": null,
   "metadata": {
    "collapsed": true
   },
   "outputs": [],
   "source": [
    "# look at the number of variables\n",
    "cat(\"Number of variables before:\")\n",
    "ncol(df)\n",
    "\n",
    "# drop variables are are constant\n",
    "df <- df[sapply(df, function(x) length(unique(na.omit(x)))) > 1]\n",
    "    \n",
    "# look at the number of variables\n",
    "cat(\"\\nNumber of variables after:\")\n",
    "ncol(df)"
   ]
  },
  {
   "cell_type": "code",
   "execution_count": null,
   "metadata": {
    "collapsed": true
   },
   "outputs": [],
   "source": [
    "# split data into traning and test\n",
    "set.seed(1234)\n",
    "trainIndex <- createDataPartition(df$Class, \n",
    "                                  p = .6, \n",
    "                                  list = FALSE, \n",
    "                                  times = 1)\n",
    "\n",
    "imbal_train <- df[ trainIndex,]\n",
    "non_train   <- df[-trainIndex,]\n",
    "\n",
    "trainIndex <- createDataPartition(non_train$Class, \n",
    "                                  p = .5, \n",
    "                                  list = FALSE, \n",
    "                                  times = 1)\n",
    "\n",
    "imbal_test  <- non_train[ trainIndex,]\n",
    "imbal_valid <- non_train[-trainIndex,]"
   ]
  },
  {
   "cell_type": "code",
   "execution_count": null,
   "metadata": {
    "collapsed": true
   },
   "outputs": [],
   "source": [
    "# seperate datetime_hour from each dataset so that I can join it up late\n",
    "train_dt <- imbal_train$Datetime_hour\n",
    "imbal_train$Datetime_hour <- NULL\n",
    "\n",
    "test_dt <- imbal_test$Datetime_hour\n",
    "imbal_test$Datetime_hour <- NULL\n",
    "\n",
    "valid_dt <- imbal_valid$Datetime_hour\n",
    "imbal_valid$Datetime_hour <- NULL"
   ]
  },
  {
   "cell_type": "code",
   "execution_count": null,
   "metadata": {
    "collapsed": true
   },
   "outputs": [],
   "source": [
    "set.seed(1234)\n",
    "smote_train <- SMOTE(Class ~ ., \n",
    "                     data = imbal_train, \n",
    "                     perc.over = 1000)                         \n",
    "\n",
    "cat(\"Number of events by type in the original dataset:\")\n",
    "table(imbal_train$Class)\n",
    "\n",
    "cat(\"\\nNumber of events by type in the balanced dataset:\")\n",
    "table(smote_train$Class)"
   ]
  },
  {
   "cell_type": "code",
   "execution_count": null,
   "metadata": {
    "collapsed": true
   },
   "outputs": [],
   "source": []
  },
  {
   "cell_type": "code",
   "execution_count": null,
   "metadata": {
    "collapsed": true
   },
   "outputs": [],
   "source": []
  },
  {
   "cell_type": "code",
   "execution_count": null,
   "metadata": {
    "collapsed": true
   },
   "outputs": [],
   "source": []
  },
  {
   "cell_type": "code",
   "execution_count": null,
   "metadata": {
    "collapsed": true
   },
   "outputs": [],
   "source": []
  },
  {
   "cell_type": "code",
   "execution_count": 15,
   "metadata": {},
   "outputs": [
    {
     "data": {
      "text/plain": [
       "\n",
       "notFail    fail \n",
       "   1644    1660 "
      ]
     },
     "metadata": {},
     "output_type": "display_data"
    }
   ],
   "source": [
    "set.seed(1234)\n",
    "rose_train <- ROSE(Class ~ ., \n",
    "                   data = imbal_train)$data                         \n",
    "\n",
    "table(rose_train$Class) "
   ]
  },
  {
   "cell_type": "markdown",
   "metadata": {},
   "source": [
    "## Compare Balancing Methods"
   ]
  },
  {
   "cell_type": "markdown",
   "metadata": {},
   "source": [
    "### In order to evalaute the usefulness of the 4 different balancing methods, we will be run the same classification methods on each of these new datasets and compare the results"
   ]
  },
  {
   "cell_type": "code",
   "execution_count": 16,
   "metadata": {
    "collapsed": true
   },
   "outputs": [],
   "source": [
    "ctrl <- trainControl(method = \"repeatedcv\", \n",
    "                     repeats = 5,\n",
    "                     classProbs = TRUE,\n",
    "                     summaryFunction = twoClassSummary)"
   ]
  },
  {
   "cell_type": "code",
   "execution_count": 90,
   "metadata": {
    "collapsed": true
   },
   "outputs": [],
   "source": [
    "set.seed(1234)\n",
    "orig_fit <- train(Class ~ ., \n",
    "                   data = imbal_train, \n",
    "                   method = \"treebag\",\n",
    "                   nbagg = 100,\n",
    "                   metric = \"ROC\",\n",
    "                   trControl = ctrl,\n",
    "                   na.action=na.exclude)"
   ]
  },
  {
   "cell_type": "code",
   "execution_count": 91,
   "metadata": {},
   "outputs": [],
   "source": [
    "set.seed(1234)\n",
    "down_fit <- train(Class ~ ., \n",
    "                   data = down_train, \n",
    "                   method = \"treebag\",\n",
    "                   nbagg = 100,\n",
    "                   metric = \"ROC\",\n",
    "                   trControl = ctrl,\n",
    "                   na.action=na.exclude)"
   ]
  },
  {
   "cell_type": "code",
   "execution_count": 92,
   "metadata": {
    "collapsed": true
   },
   "outputs": [],
   "source": [
    "set.seed(1234)\n",
    "up_fit <- train(Class ~ ., \n",
    "                data = up_train, \n",
    "                method = \"treebag\",\n",
    "                nbagg = 100,\n",
    "                metric = \"ROC\",\n",
    "                trControl = ctrl,\n",
    "                na.action=na.exclude)"
   ]
  },
  {
   "cell_type": "code",
   "execution_count": 93,
   "metadata": {},
   "outputs": [],
   "source": [
    "set.seed(1234)\n",
    "smote_fit <- train(Class ~ ., \n",
    "                    data = smote_train, \n",
    "                    method = \"treebag\",\n",
    "                    nbagg = 100,\n",
    "                    metric = \"ROC\",\n",
    "                    trControl = ctrl,\n",
    "                    na.action=na.exclude)"
   ]
  },
  {
   "cell_type": "code",
   "execution_count": 94,
   "metadata": {
    "collapsed": true
   },
   "outputs": [],
   "source": [
    "set.seed(1234)\n",
    "rose_fit <- train(Class ~ ., \n",
    "                  data = rose_train, \n",
    "                  method = \"treebag\",\n",
    "                  nbagg = 100,\n",
    "                  metric = \"ROC\",\n",
    "                  trControl = ctrl,\n",
    "                  na.action=na.exclude)"
   ]
  },
  {
   "cell_type": "markdown",
   "metadata": {},
   "source": [
    "#### To compare the different balancing methods, we will validate the models with the test data and compare the ROC values"
   ]
  },
  {
   "cell_type": "code",
   "execution_count": 97,
   "metadata": {},
   "outputs": [
    {
     "data": {
      "text/html": [
       "<table>\n",
       "<thead><tr><th></th><th scope=col>lower</th><th scope=col>ROC</th><th scope=col>upper</th></tr></thead>\n",
       "<tbody>\n",
       "\t<tr><th scope=row>original</th><td>0.4192415</td><td>0.5674266</td><td>0.7156116</td></tr>\n",
       "\t<tr><th scope=row>down</th><td>0.4491774</td><td>0.5778408</td><td>0.7065041</td></tr>\n",
       "\t<tr><th scope=row>up</th><td>0.3881976</td><td>0.4677140</td><td>0.5472304</td></tr>\n",
       "\t<tr><th scope=row>SMOTE</th><td>0.4790826</td><td>0.6054611</td><td>0.7318395</td></tr>\n",
       "\t<tr><th scope=row>ROSE</th><td>0.4551639</td><td>0.5280140</td><td>0.6008641</td></tr>\n",
       "</tbody>\n",
       "</table>\n"
      ],
      "text/latex": [
       "\\begin{tabular}{r|lll}\n",
       "  & lower & ROC & upper\\\\\n",
       "\\hline\n",
       "\toriginal & 0.4192415 & 0.5674266 & 0.7156116\\\\\n",
       "\tdown & 0.4491774 & 0.5778408 & 0.7065041\\\\\n",
       "\tup & 0.3881976 & 0.4677140 & 0.5472304\\\\\n",
       "\tSMOTE & 0.4790826 & 0.6054611 & 0.7318395\\\\\n",
       "\tROSE & 0.4551639 & 0.5280140 & 0.6008641\\\\\n",
       "\\end{tabular}\n"
      ],
      "text/markdown": [
       "\n",
       "| <!--/--> | lower | ROC | upper | \n",
       "|---|---|---|---|---|\n",
       "| original | 0.4192415 | 0.5674266 | 0.7156116 | \n",
       "| down | 0.4491774 | 0.5778408 | 0.7065041 | \n",
       "| up | 0.3881976 | 0.4677140 | 0.5472304 | \n",
       "| SMOTE | 0.4790826 | 0.6054611 | 0.7318395 | \n",
       "| ROSE | 0.4551639 | 0.5280140 | 0.6008641 | \n",
       "\n",
       "\n"
      ],
      "text/plain": [
       "         lower     ROC       upper    \n",
       "original 0.4192415 0.5674266 0.7156116\n",
       "down     0.4491774 0.5778408 0.7065041\n",
       "up       0.3881976 0.4677140 0.5472304\n",
       "SMOTE    0.4790826 0.6054611 0.7318395\n",
       "ROSE     0.4551639 0.5280140 0.6008641"
      ]
     },
     "metadata": {},
     "output_type": "display_data"
    }
   ],
   "source": [
    "balance_models <- list(original = orig_fit,\n",
    "                       down = down_fit,\n",
    "                       up = up_fit,\n",
    "                       SMOTE = smote_fit,\n",
    "                       ROSE = rose_fit)\n",
    "\n",
    "balance_resampling <- resamples(balance_models)\n",
    "\n",
    "test_roc <- function(model, data) {\n",
    "  library(pROC)\n",
    "  roc_obj <- roc(data$Class, \n",
    "                 predict(model, data, type = \"prob\")[, \"fail\"])\n",
    "  ci(roc_obj)\n",
    "  }\n",
    "\n",
    "balance_test <- lapply(balance_models, test_roc, data = imbal_test)\n",
    "balance_test <- lapply(balance_test, as.vector)\n",
    "balance_test <- do.call(\"rbind\", balance_test)\n",
    "colnames(balance_test) <- c(\"lower\", \"ROC\", \"upper\")\n",
    "balance_test <- as.data.frame(balance_test)\n",
    "\n",
    "#summary(balance_resampling, metric = \"ROC\")\n",
    "balance_test"
   ]
  },
  {
   "cell_type": "markdown",
   "metadata": {},
   "source": [
    "## Explore Classification Methods"
   ]
  },
  {
   "cell_type": "code",
   "execution_count": 19,
   "metadata": {
    "collapsed": true
   },
   "outputs": [],
   "source": [
    "# define contrls for each model\n",
    "fit_ctrl <- trainControl(method = \"repeatedcv\", \n",
    "                         repeats = 5,\n",
    "                         classProbs = TRUE,\n",
    "                         summaryFunction = twoClassSummary)"
   ]
  },
  {
   "cell_type": "markdown",
   "metadata": {},
   "source": [
    "### Decision Tree"
   ]
  },
  {
   "cell_type": "code",
   "execution_count": null,
   "metadata": {
    "collapsed": true
   },
   "outputs": [],
   "source": [
    "set.seed(1234)\n",
    "rpart_fit <- train(Class ~ ., \n",
    "                   data = rose_train,\n",
    "                   method = \"rpart\",\n",
    "                   metric = \"ROC\",\n",
    "                   trControl = fit_ctrl,\n",
    "                   na.action = na.exclude)"
   ]
  },
  {
   "cell_type": "code",
   "execution_count": null,
   "metadata": {
    "collapsed": true
   },
   "outputs": [],
   "source": [
    "rpart_fit"
   ]
  },
  {
   "cell_type": "code",
   "execution_count": null,
   "metadata": {
    "collapsed": true
   },
   "outputs": [],
   "source": [
    "rpart_pred <- predict(rpart_fit, imbal_test, type = \"prob\")\n",
    "rpart_pred$pred <- factor(ifelse(rpart_pred$notFail >= .5, \"notFail\", \"fail\"))\n",
    "rpart_pred <- cbind(rpart_pred, actual = imbal_test$Class)"
   ]
  },
  {
   "cell_type": "code",
   "execution_count": null,
   "metadata": {
    "collapsed": true
   },
   "outputs": [],
   "source": [
    "confusionMatrix(data = rpart_pred$pred, reference = rpart_pred$actual)"
   ]
  },
  {
   "cell_type": "markdown",
   "metadata": {},
   "source": [
    "### Bagged Tree"
   ]
  },
  {
   "cell_type": "code",
   "execution_count": null,
   "metadata": {
    "collapsed": true
   },
   "outputs": [],
   "source": [
    "ctrl <- trainControl(method = \"repeatedcv\", \n",
    "                     repeats = 5,\n",
    "                     classProbs = TRUE,\n",
    "                     summaryFunction = twoClassSummary)"
   ]
  },
  {
   "cell_type": "code",
   "execution_count": null,
   "metadata": {
    "collapsed": true
   },
   "outputs": [],
   "source": [
    "set.seed(1234)\n",
    "treebag_fit <- train(Class ~ ., \n",
    "                     data = up_train,\n",
    "                     method = \"treebag\",\n",
    "                     nbagg = 100,\n",
    "                     metric = \"ROC\",\n",
    "                     trControl = ctrl, \n",
    "                     na.action=na.exclude)"
   ]
  },
  {
   "cell_type": "code",
   "execution_count": null,
   "metadata": {
    "collapsed": true
   },
   "outputs": [],
   "source": [
    "treebag_fit"
   ]
  },
  {
   "cell_type": "code",
   "execution_count": null,
   "metadata": {
    "collapsed": true
   },
   "outputs": [],
   "source": [
    "treebag_pred <- predict(treebag_fit, imbal_test, type = \"prob\")\n",
    "treebag_pred$pred <- factor(ifelse(treebag_pred$notFail >= .5, \"notFail\", \"fail\"))\n",
    "treebag_pred <- cbind(treebag_pred, actual = imbal_test$Class)"
   ]
  },
  {
   "cell_type": "code",
   "execution_count": null,
   "metadata": {
    "collapsed": true
   },
   "outputs": [],
   "source": [
    "confusionMatrix(data = rpart_pred$pred, reference = rpart_pred$actual)"
   ]
  },
  {
   "cell_type": "markdown",
   "metadata": {},
   "source": [
    "### Support Vector Machine"
   ]
  },
  {
   "cell_type": "code",
   "execution_count": null,
   "metadata": {
    "collapsed": true
   },
   "outputs": [],
   "source": [
    "set.seed(1234)\n",
    "svm_fit <- train(Class ~ ., \n",
    "                 data = rose_train, \n",
    "                 method = \"svmRadial\", \n",
    "                 trControl = fit_ctrl, \n",
    "                 preProc = c(\"center\", \"scale\"),\n",
    "                 tuneLength = 8,\n",
    "                 metric = \"ROC\", \n",
    "                 na.action = na.exclude)"
   ]
  },
  {
   "cell_type": "code",
   "execution_count": null,
   "metadata": {
    "collapsed": true
   },
   "outputs": [],
   "source": [
    "svm_fit"
   ]
  },
  {
   "cell_type": "code",
   "execution_count": null,
   "metadata": {
    "collapsed": true
   },
   "outputs": [],
   "source": [
    "svm_pred <- predict(svm_fit, imbal_test, type = \"prob\")\n",
    "svm_pred$pred <- factor(ifelse(svm_pred$notFail >= .5, \"notFail\", \"fail\"))\n",
    "svm_pred <- cbind(svm_pred, actual = imbal_test$Class)"
   ]
  },
  {
   "cell_type": "code",
   "execution_count": null,
   "metadata": {
    "collapsed": true
   },
   "outputs": [],
   "source": [
    "confusionMatrix(data = svm_pred$pred, reference = svm_pred$actual)"
   ]
  },
  {
   "cell_type": "markdown",
   "metadata": {},
   "source": [
    "### AdaBoost Classification Trees"
   ]
  },
  {
   "cell_type": "code",
   "execution_count": null,
   "metadata": {
    "collapsed": true
   },
   "outputs": [],
   "source": [
    "set.seed(1234)\n",
    "ada_fit <- train(Class ~ ., \n",
    "                 data = rose_train, \n",
    "                 method = \"adaboost\",\n",
    "                 trControl = fit_ctrl, \n",
    "                 na.action = na.exclude)"
   ]
  },
  {
   "cell_type": "code",
   "execution_count": null,
   "metadata": {
    "collapsed": true
   },
   "outputs": [],
   "source": [
    "ada_fit"
   ]
  },
  {
   "cell_type": "code",
   "execution_count": null,
   "metadata": {
    "collapsed": true
   },
   "outputs": [],
   "source": [
    "ada_pred <- predict(ada_fit, imbal_test, type = \"prob\")\n",
    "ada_pred$pred <- factor(ifelse(ada_pred$notFail >= .5, \"notFail\", \"fail\"))\n",
    "ada_pred <- cbind(ada_pred, actual = imbal_test$Class)"
   ]
  },
  {
   "cell_type": "code",
   "execution_count": null,
   "metadata": {
    "collapsed": true
   },
   "outputs": [],
   "source": [
    "confusionMatrix(data = ada_pred$pred, reference = ada_pred$actual)"
   ]
  },
  {
   "cell_type": "markdown",
   "metadata": {},
   "source": [
    "### Neural Network"
   ]
  },
  {
   "cell_type": "code",
   "execution_count": null,
   "metadata": {
    "collapsed": true
   },
   "outputs": [],
   "source": [
    "set.seed(1234)\n",
    "net_fit <- train(Class ~ ., \n",
    "                 data = imbal_train, \n",
    "                 method = \"avNNet\",\n",
    "                 na.action = na.exclude)"
   ]
  },
  {
   "cell_type": "code",
   "execution_count": null,
   "metadata": {
    "collapsed": true
   },
   "outputs": [],
   "source": [
    "net_fit"
   ]
  },
  {
   "cell_type": "code",
   "execution_count": null,
   "metadata": {
    "collapsed": true
   },
   "outputs": [],
   "source": [
    "net_pred <- predict(net_fit, imbal_test, type = \"prob\")\n",
    "net_pred$pred <- factor(ifelse(net_pred$notFail >= .5, \"notFail\", \"fail\"))\n",
    "net_pred <- cbind(net_pred, actual = imbal_test$Class)"
   ]
  },
  {
   "cell_type": "code",
   "execution_count": null,
   "metadata": {
    "collapsed": true
   },
   "outputs": [],
   "source": [
    "confusionMatrix(data = net_pred$pred, reference = net_pred$actual)"
   ]
  },
  {
   "cell_type": "markdown",
   "metadata": {},
   "source": [
    "### Cost Sensitive Learning"
   ]
  },
  {
   "cell_type": "code",
   "execution_count": null,
   "metadata": {
    "collapsed": true
   },
   "outputs": [],
   "source": [
    "stats <- function (data, lev = NULL, model = NULL)  {\n",
    "  c(postResample(data[, \"pred\"], data[, \"obs\"]),\n",
    "    Sens = sensitivity(data[, \"pred\"], data[, \"obs\"]),\n",
    "    Spec = specificity(data[, \"pred\"], data[, \"obs\"]))\n",
    "}\n",
    "\n",
    "ctrl <- trainControl(method = \"repeatedcv\", \n",
    "                     repeats = 5,\n",
    "                     summaryFunction = stats)"
   ]
  },
  {
   "cell_type": "code",
   "execution_count": null,
   "metadata": {
    "collapsed": true
   },
   "outputs": [],
   "source": [
    "set.seed(1234)\n",
    "c50_fit <- train(Class ~ ., \n",
    "                 data = rose_train, \n",
    "                 method = \"C5.0Cost\",\n",
    "                 tuneGrid = expand.grid(model = \"tree\", \n",
    "                                        winnow = c(TRUE, FALSE),\n",
    "                                        trials = c(1:10),\n",
    "                                        cost = 1:10),\n",
    "                 metric = \"Kappa\",\n",
    "                 trControl = ctrl, \n",
    "                 na.action = na.exclude)"
   ]
  },
  {
   "cell_type": "code",
   "execution_count": null,
   "metadata": {
    "collapsed": true
   },
   "outputs": [],
   "source": [
    "c50_fit"
   ]
  },
  {
   "cell_type": "code",
   "execution_count": null,
   "metadata": {
    "collapsed": true
   },
   "outputs": [],
   "source": [
    "c50_pred <- predict(c50_fit, imbal_test)\n",
    "c50_pred <- data.frame(predicted = c50_pred, actual = imbal_test$Class)"
   ]
  },
  {
   "cell_type": "code",
   "execution_count": null,
   "metadata": {
    "collapsed": true
   },
   "outputs": [],
   "source": [
    "confusionMatrix(data = c50_pred$predicted, reference = c50_pred$actual)"
   ]
  },
  {
   "cell_type": "markdown",
   "metadata": {},
   "source": [
    "### RPART with Cost"
   ]
  },
  {
   "cell_type": "code",
   "execution_count": null,
   "metadata": {
    "collapsed": true
   },
   "outputs": [],
   "source": [
    "cctrl1 <- trainControl(method = \"cv\", \n",
    "                       number = 3, \n",
    "                       returnResamp = \"all\")\n",
    "\n",
    "cctrl2 <- trainControl(method = \"LOOCV\")\n",
    "\n",
    "cctrl3 <- trainControl(method = \"none\")\n",
    "\n",
    "cctrlR <- trainControl(method = \"cv\", \n",
    "                       number = 3, \n",
    "                       returnResamp = \"all\", \n",
    "                       search = \"random\")"
   ]
  },
  {
   "cell_type": "code",
   "execution_count": null,
   "metadata": {
    "collapsed": true
   },
   "outputs": [],
   "source": [
    "set.seed(1234)\n",
    "rpartC_fit <- train(Class ~ ., \n",
    "                    data = rose_train, \n",
    "                    method = \"rpartCost\", \n",
    "                    trControl = cctrl2,\n",
    "                    preProc = c(\"center\", \"scale\"), \n",
    "                    metric = \"Kappa\",\n",
    "                    na.action = na.exclude)"
   ]
  },
  {
   "cell_type": "code",
   "execution_count": null,
   "metadata": {
    "collapsed": true
   },
   "outputs": [],
   "source": [
    "rpartC_fit"
   ]
  },
  {
   "cell_type": "code",
   "execution_count": null,
   "metadata": {
    "collapsed": true
   },
   "outputs": [],
   "source": [
    "rpartC_fit_pred <- predict(rpartC_fit, imbal_test)\n",
    "rpartC_fit_pred <- data.frame(predicted = rpartC_fit_pred, actual = imbal_test$Class)"
   ]
  },
  {
   "cell_type": "code",
   "execution_count": null,
   "metadata": {
    "collapsed": true
   },
   "outputs": [],
   "source": [
    "confusionMatrix(data = rpartC_fit_pred$predicted, reference = rpartC_fit_pred$actual)"
   ]
  },
  {
   "cell_type": "code",
   "execution_count": null,
   "metadata": {
    "collapsed": true
   },
   "outputs": [],
   "source": []
  }
 ],
 "metadata": {
  "kernelspec": {
   "display_name": "R",
   "language": "R",
   "name": "ir"
  },
  "language_info": {
   "codemirror_mode": "r",
   "file_extension": ".r",
   "mimetype": "text/x-r-source",
   "name": "R",
   "pygments_lexer": "r",
   "version": "3.3.2"
  }
 },
 "nbformat": 4,
 "nbformat_minor": 2
}
